{
 "cells": [
  {
   "cell_type": "code",
   "execution_count": 1,
   "metadata": {
    "collapsed": true
   },
   "outputs": [],
   "source": [
    "import time\n",
    "import ssim\n",
    "#!pip install pyssim\n",
    "from PIL import Image\n",
    "from io import BytesIO\n",
    "import requests as r"
   ]
  },
  {
   "cell_type": "code",
   "execution_count": 628,
   "outputs": [],
   "source": [
    "token = ''\n",
    "owner_id = '' #ID вашей страницы\n",
    "version = 5.131 #Версия API"
   ],
   "metadata": {
    "collapsed": false
   }
  },
  {
   "cell_type": "code",
   "execution_count": null,
   "outputs": [],
   "source": [
    "# Необходимые массивы\n",
    "images = []\n",
    "warn = []"
   ],
   "metadata": {
    "collapsed": false
   }
  },
  {
   "cell_type": "code",
   "execution_count": 663,
   "outputs": [],
   "source": [
    "def get_data(owner_id, version):\n",
    "    output = {}\n",
    "    for i in range(10):\n",
    "        count = 1000\n",
    "        album_id = 'saved' #Можете указать свой\n",
    "        method = 'photos.get'\n",
    "        offset = i * 1000\n",
    "        parameters= f'owner_id={owner_id}&count={count}&album_id={album_id}&photo_ids=0&offset={offset}'\n",
    "        get_saved = f'https://api.vk.com/method/{method}?{parameters}&access_token={token}&v={version}'\n",
    "        resp = r.get(get_saved).json()\n",
    "        try:\n",
    "            for j in range(1000):\n",
    "                output.update({resp['response']['items'][j]['id']:resp['response']['items'][j]['sizes'][3]['url']})\n",
    "        except IndexError:\n",
    "            pass\n",
    "    return output\n",
    "\n",
    "\n",
    "data = get_data(owner_id, version)"
   ],
   "metadata": {
    "collapsed": false
   }
  },
  {
   "cell_type": "code",
   "execution_count": null,
   "outputs": [],
   "source": [
    "len(data)\n",
    "#Смотрим сколько всего картинок"
   ],
   "metadata": {
    "collapsed": false,
    "pycharm": {
     "is_executing": true
    }
   }
  },
  {
   "cell_type": "markdown",
   "source": [
    "### Скачиваем картинки, и добавляем их в массив images"
   ],
   "metadata": {
    "collapsed": false
   }
  },
  {
   "cell_type": "code",
   "execution_count": 666,
   "outputs": [],
   "source": [
    "for i in range(len(images), len(data)):\n",
    "    images.append(Image.open(BytesIO(r.get(data[list(data.keys())[i]]).content)))"
   ],
   "metadata": {
    "collapsed": false
   }
  },
  {
   "cell_type": "code",
   "execution_count": null,
   "outputs": [],
   "source": [
    "len(images)\n",
    "#Смотрим сколько картинок скачали"
   ],
   "metadata": {
    "collapsed": false,
    "pycharm": {
     "is_executing": true
    }
   }
  },
  {
   "cell_type": "markdown",
   "source": [
    "### Сравниваем картинки между собой"
   ],
   "metadata": {
    "collapsed": false
   }
  },
  {
   "cell_type": "code",
   "execution_count": 710,
   "outputs": [
    {
     "name": "stdout",
     "output_type": "stream",
     "text": [
      "Выполнено: 9860 из 9946. 99.13533078624572 %\n",
      "Выполнено: 9870 из 9946. 99.23587371807761 %\n",
      "Выполнено: 9880 из 9946. 99.33641664990951 %\n",
      "Выполнено: 9890 из 9946. 99.4369595817414 %\n",
      "Выполнено: 9900 из 9946. 99.5375025135733 %\n",
      "Выполнено: 9910 из 9946. 99.63804544540518 %\n",
      "Выполнено: 9920 из 9946. 99.73858837723708 %\n",
      "Выполнено: 9930 из 9946. 99.83913130906897 %\n",
      "Выполнено: 9940 из 9946. 99.93967424090087 %\n"
     ]
    }
   ],
   "source": [
    "#В моём случае фото-двойники оказались рядом, поэтому и сделал скрипт для проверки фото с 10 последующими\n",
    "for i in range(len(data)):\n",
    "    img1 = images[i]\n",
    "    try:\n",
    "        for j in range(i + 1, i + 11):\n",
    "            img2 = images[j]\n",
    "            sim = ssim.compute_ssim(img1, img2)\n",
    "            if sim > 0.6: # Если хотите найти дубликаты, то замените параметр на 1, хотя рекомендую >0.9\n",
    "                warn.append([list(data.keys())[i] ,  list(data.keys())[j], sim])\n",
    "    except IndexError:\n",
    "        pass\n",
    "    if i % 10 == 0:\n",
    "        print(f'Выполнено: {i} из {len(data)}. {(i / len(data)) * 100} %')"
   ],
   "metadata": {
    "collapsed": false
   }
  },
  {
   "cell_type": "markdown",
   "source": [
    "### Запрос для удаления всех фото-\"двойников\""
   ],
   "metadata": {
    "collapsed": false
   }
  },
  {
   "cell_type": "code",
   "execution_count": null,
   "outputs": [],
   "source": [
    "method = 'photos.delete'\n",
    "version = 5.131\n",
    "try:\n",
    "    for i in range(len(warn)):\n",
    "        if warn[i][2] > 0.6:\n",
    "            photo_id = warn[i][0]\n",
    "            if warn[i][0] == warn[i+1][0]:\n",
    "                photo_id = warn[i][1]\n",
    "            parameters= f'owner_id={owner_id}&photo_id={photo_id}'\n",
    "            delete_saved = f'https://api.vk.com/method/{method}?{parameters}&access_token={token}&v={version}'\n",
    "            time.sleep(0.25)\n",
    "            resp = r.get(delete_saved)\n",
    "            print(photo_id, resp.text)\n",
    "except IndexError:\n",
    "    pass"
   ],
   "metadata": {
    "collapsed": false,
    "pycharm": {
     "is_executing": true
    }
   }
  },
  {
   "cell_type": "markdown",
   "source": [
    "## Вот и всё, скрипт автоматически удалил все дубликаты, и очень похожие фото"
   ],
   "metadata": {
    "collapsed": false
   }
  }
 ],
 "metadata": {
  "kernelspec": {
   "display_name": "Python 3",
   "language": "python",
   "name": "python3"
  },
  "language_info": {
   "codemirror_mode": {
    "name": "ipython",
    "version": 2
   },
   "file_extension": ".py",
   "mimetype": "text/x-python",
   "name": "python",
   "nbconvert_exporter": "python",
   "pygments_lexer": "ipython2",
   "version": "2.7.6"
  }
 },
 "nbformat": 4,
 "nbformat_minor": 0
}
